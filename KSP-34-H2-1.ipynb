{
 "cells": [
  {
   "cell_type": "code",
   "execution_count": null,
   "metadata": {
    "collapsed": true
   },
   "outputs": [],
   "source": [
    "n, m, j, s = input().split()\n",
    "n, m, j, s = int(n), int(m), int(j), int(s)"
   ]
  },
  {
   "cell_type": "code",
   "execution_count": null,
   "outputs": [],
   "source": [
    "from queue import PriorityQueue\n",
    "from collections import defaultdict\n",
    "\n",
    "class Graph:\n",
    "    def __init__(self, num_of_vertices):\n",
    "        self.v = num_of_vertices\n",
    "        self.edges = defaultdict(dict)\n",
    "        self.visited = []\n",
    "        pass\n",
    "\n",
    "    def add_edge(self, u, v, weight):\n",
    "        self.edges[u][v] = weight\n",
    "        self.edges[v][u] = weight\n",
    "        pass\n",
    "    pass\n",
    "\n",
    "def dijkstra(graph, start_vertex):\n",
    "    D = [-1] * graph.v\n",
    "    D[start_vertex] = 0\n",
    "\n",
    "    visited = set()\n",
    "\n",
    "    pq = PriorityQueue()\n",
    "    pq.put((0, start_vertex))\n",
    "\n",
    "    while not pq.empty():\n",
    "        (dist, current_vertex) = pq.get()\n",
    "        visited.add(current_vertex)\n",
    "\n",
    "        neighbors = graph.edges[current_vertex]\n",
    "\n",
    "        for i, (neighbor, weight) in enumerate(neighbors.items()):\n",
    "            distance = neighbors[neighbor]\n",
    "\n",
    "            if neighbor not in visited:\n",
    "                old_cost = D[neighbor]\n",
    "                new_cost = D[current_vertex] + distance\n",
    "                if new_cost < old_cost or old_cost == -1:\n",
    "                    pq.put((new_cost, neighbor))\n",
    "                    D[neighbor] = new_cost\n",
    "                    pass\n",
    "                pass\n",
    "            pass\n",
    "        pass\n",
    "\n",
    "    return D"
   ],
   "metadata": {
    "collapsed": false,
    "pycharm": {
     "name": "#%%\n"
    }
   }
  },
  {
   "cell_type": "code",
   "execution_count": null,
   "outputs": [],
   "source": [
    "ga = Graph(n)\n",
    "\n",
    "for i in range(m):\n",
    "    a, b, c = input().split()\n",
    "    a, b, c = int(a), int(b), int(c)\n",
    "\n",
    "    ga.add_edge(a - 1, b - 1, c)\n",
    "    pass"
   ],
   "metadata": {
    "collapsed": false,
    "pycharm": {
     "name": "#%%\n"
    }
   }
  },
  {
   "cell_type": "code",
   "execution_count": null,
   "outputs": [],
   "source": [
    "va = dijkstra(ga, 0)\n",
    "vb = dijkstra(ga, 1)\n",
    "vc = dijkstra(ga, 2)"
   ],
   "metadata": {
    "collapsed": false,
    "pycharm": {
     "name": "#%%\n"
    }
   }
  },
  {
   "cell_type": "code",
   "execution_count": null,
   "outputs": [],
   "source": [
    "lowest_len = -1\n",
    "\n",
    "for i in range(n):\n",
    "    length = ((va[i] + vb[i]) * j) + ((vc[i]) * s)\n",
    "    if lowest_len == -1:\n",
    "        lowest_len = length\n",
    "        continue\n",
    "        pass\n",
    "    lowest_len = min(lowest_len, length)\n",
    "    pass"
   ],
   "metadata": {
    "collapsed": false,
    "pycharm": {
     "name": "#%%\n"
    }
   }
  },
  {
   "cell_type": "code",
   "execution_count": null,
   "outputs": [],
   "source": [
    "print(lowest_len)"
   ],
   "metadata": {
    "collapsed": false,
    "pycharm": {
     "name": "#%%\n"
    }
   }
  }
 ],
 "metadata": {
  "kernelspec": {
   "display_name": "Python 3",
   "language": "python",
   "name": "python3"
  },
  "language_info": {
   "codemirror_mode": {
    "name": "ipython",
    "version": 2
   },
   "file_extension": ".py",
   "mimetype": "text/x-python",
   "name": "python",
   "nbconvert_exporter": "python",
   "pygments_lexer": "ipython2",
   "version": "2.7.6"
  }
 },
 "nbformat": 4,
 "nbformat_minor": 0
}